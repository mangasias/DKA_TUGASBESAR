{
 "cells": [
  {
   "cell_type": "code",
   "execution_count": 8,
   "id": "dcb19fe2",
   "metadata": {},
   "outputs": [],
   "source": [
    "import pandas as pd\n",
    "data = pd.read_excel(r\"D:\\DKATUBES\\2023-2024 NBA Player Stats - Playoffs.xlsx\")"
   ]
  },
  {
   "cell_type": "code",
   "execution_count": 9,
   "id": "f3d8bd67",
   "metadata": {},
   "outputs": [
    {
     "data": {
      "text/html": [
       "<div>\n",
       "<style scoped>\n",
       "    .dataframe tbody tr th:only-of-type {\n",
       "        vertical-align: middle;\n",
       "    }\n",
       "\n",
       "    .dataframe tbody tr th {\n",
       "        vertical-align: top;\n",
       "    }\n",
       "\n",
       "    .dataframe thead th {\n",
       "        text-align: right;\n",
       "    }\n",
       "</style>\n",
       "<table border=\"1\" class=\"dataframe\">\n",
       "  <thead>\n",
       "    <tr style=\"text-align: right;\">\n",
       "      <th></th>\n",
       "      <th>Player</th>\n",
       "      <th>GP</th>\n",
       "      <th>3P</th>\n",
       "      <th>3PA</th>\n",
       "      <th>3P%</th>\n",
       "      <th>eFG%</th>\n",
       "      <th>Label</th>\n",
       "    </tr>\n",
       "  </thead>\n",
       "  <tbody>\n",
       "    <tr>\n",
       "      <th>0</th>\n",
       "      <td>Damian Lillard</td>\n",
       "      <td>4</td>\n",
       "      <td>5.0</td>\n",
       "      <td>12.0</td>\n",
       "      <td>0.417</td>\n",
       "      <td>0.543</td>\n",
       "      <td>1</td>\n",
       "    </tr>\n",
       "    <tr>\n",
       "      <th>1</th>\n",
       "      <td>Luka Doncic</td>\n",
       "      <td>22</td>\n",
       "      <td>3.1</td>\n",
       "      <td>9.6</td>\n",
       "      <td>0.322</td>\n",
       "      <td>0.514</td>\n",
       "      <td>1</td>\n",
       "    </tr>\n",
       "    <tr>\n",
       "      <th>2</th>\n",
       "      <td>Tyrese Haliburton</td>\n",
       "      <td>15</td>\n",
       "      <td>3.5</td>\n",
       "      <td>9.3</td>\n",
       "      <td>0.379</td>\n",
       "      <td>0.612</td>\n",
       "      <td>1</td>\n",
       "    </tr>\n",
       "    <tr>\n",
       "      <th>3</th>\n",
       "      <td>Tyrese Maxey</td>\n",
       "      <td>6</td>\n",
       "      <td>3.7</td>\n",
       "      <td>9.2</td>\n",
       "      <td>0.400</td>\n",
       "      <td>0.558</td>\n",
       "      <td>1</td>\n",
       "    </tr>\n",
       "    <tr>\n",
       "      <th>4</th>\n",
       "      <td>D'Angelo Russell</td>\n",
       "      <td>5</td>\n",
       "      <td>2.8</td>\n",
       "      <td>8.8</td>\n",
       "      <td>0.318</td>\n",
       "      <td>0.479</td>\n",
       "      <td>1</td>\n",
       "    </tr>\n",
       "  </tbody>\n",
       "</table>\n",
       "</div>"
      ],
      "text/plain": [
       "              Player  GP   3P   3PA    3P%   eFG%  Label\n",
       "0     Damian Lillard   4  5.0  12.0  0.417  0.543      1\n",
       "1        Luka Doncic  22  3.1   9.6  0.322  0.514      1\n",
       "2  Tyrese Haliburton  15  3.5   9.3  0.379  0.612      1\n",
       "3       Tyrese Maxey   6  3.7   9.2  0.400  0.558      1\n",
       "4   D'Angelo Russell   5  2.8   8.8  0.318  0.479      1"
      ]
     },
     "execution_count": 9,
     "metadata": {},
     "output_type": "execute_result"
    }
   ],
   "source": [
    "data[[\"Player\",\"GP\",\"3P\", \"3PA\", \"3P%\", \"eFG%\",\"Label\"]].head()"
   ]
  },
  {
   "cell_type": "code",
   "execution_count": 10,
   "id": "10211bf9",
   "metadata": {},
   "outputs": [
    {
     "data": {
      "text/plain": [
       "Label\n",
       "0    135\n",
       "1     79\n",
       "Name: count, dtype: int64"
      ]
     },
     "execution_count": 10,
     "metadata": {},
     "output_type": "execute_result"
    }
   ],
   "source": [
    "data[\"Label\"].value_counts()"
   ]
  },
  {
   "cell_type": "code",
   "execution_count": 11,
   "id": "a26c9f86",
   "metadata": {},
   "outputs": [
    {
     "name": "stdout",
     "output_type": "stream",
     "text": [
      "Akurasi: 0.8837209302325582\n",
      "Presisi: 0.8235294117647058\n",
      "Recall: 0.875\n",
      "F1: 0.8484848484848485\n",
      "\n",
      "Classification Report:\n",
      "               precision    recall  f1-score   support\n",
      "\n",
      "           0       0.92      0.89      0.91        27\n",
      "           1       0.82      0.88      0.85        16\n",
      "\n",
      "    accuracy                           0.88        43\n",
      "   macro avg       0.87      0.88      0.88        43\n",
      "weighted avg       0.89      0.88      0.88        43\n",
      "\n"
     ]
    }
   ],
   "source": [
    "from sklearn.metrics import accuracy_score, precision_score, recall_score, f1_score, classification_report\n",
    "from sklearn.model_selection import train_test_split\n",
    "from sklearn.tree import DecisionTreeClassifier\n",
    "\n",
    "data = data.drop(columns=[\"Player\"])\n",
    "\n",
    "X = data.drop(columns=[\"Label\"])\n",
    "y = data[\"Label\"]\n",
    "\n",
    "X_train, X_test, y_train, y_test = train_test_split(\n",
    "    X, y, test_size=0.2, random_state=42, stratify=y\n",
    ")\n",
    "\n",
    "dt_model = DecisionTreeClassifier(random_state=42)\n",
    "dt_model.fit(X_train, y_train)\n",
    "\n",
    "y_pred = dt_model.predict(X_test)\n",
    "print(\"Akurasi:\", accuracy_score(y_test, y_pred))\n",
    "print(\"Presisi:\", precision_score(y_test, y_pred))\n",
    "print(\"Recall:\", recall_score(y_test, y_pred))\n",
    "print(\"F1:\", f1_score(y_test, y_pred))\n",
    "print(\"\\nClassification Report:\\n\", classification_report(y_test, y_pred))"
   ]
  },
  {
   "cell_type": "code",
   "execution_count": 12,
   "id": "60c40462",
   "metadata": {},
   "outputs": [
    {
     "name": "stdout",
     "output_type": "stream",
     "text": [
      "|--- 3P <= 0.65\n",
      "|   |--- GP <= 18.00\n",
      "|   |   |--- class: 0\n",
      "|   |--- GP >  18.00\n",
      "|   |   |--- 3PA <= 1.20\n",
      "|   |   |   |--- class: 0\n",
      "|   |   |--- 3PA >  1.20\n",
      "|   |   |   |--- class: 1\n",
      "|--- 3P >  0.65\n",
      "|   |--- GP <= 4.50\n",
      "|   |   |--- 3P <= 2.15\n",
      "|   |   |   |--- class: 0\n",
      "|   |   |--- 3P >  2.15\n",
      "|   |   |   |--- class: 1\n",
      "|   |--- GP >  4.50\n",
      "|   |   |--- eFG% <= 0.41\n",
      "|   |   |   |--- class: 0\n",
      "|   |   |--- eFG% >  0.41\n",
      "|   |   |   |--- eFG% <= 0.48\n",
      "|   |   |   |   |--- GP <= 9.50\n",
      "|   |   |   |   |   |--- eFG% <= 0.46\n",
      "|   |   |   |   |   |   |--- class: 1\n",
      "|   |   |   |   |   |--- eFG% >  0.46\n",
      "|   |   |   |   |   |   |--- class: 0\n",
      "|   |   |   |   |--- GP >  9.50\n",
      "|   |   |   |   |   |--- class: 1\n",
      "|   |   |   |--- eFG% >  0.48\n",
      "|   |   |   |   |--- GP <= 5.50\n",
      "|   |   |   |   |   |--- 3P% <= 0.43\n",
      "|   |   |   |   |   |   |--- class: 1\n",
      "|   |   |   |   |   |--- 3P% >  0.43\n",
      "|   |   |   |   |   |   |--- class: 0\n",
      "|   |   |   |   |--- GP >  5.50\n",
      "|   |   |   |   |   |--- class: 1\n",
      "\n"
     ]
    }
   ],
   "source": [
    "from sklearn.tree import export_text\n",
    "\n",
    "decision_rules = export_text(dt_model, feature_names=X.columns.tolist())\n",
    "print(decision_rules)\n"
   ]
  },
  {
   "cell_type": "code",
   "execution_count": 13,
   "id": "c575581a",
   "metadata": {},
   "outputs": [
    {
     "data": {
      "image/png": "[encoded data removed]",
      "text/plain": [
       "<Figure size 640x480 with 2 Axes>"
      ]
     },
     "metadata": {},
     "output_type": "display_data"
    }
   ],
   "source": [
    "from sklearn.metrics import confusion_matrix, ConfusionMatrixDisplay\n",
    "import matplotlib.pyplot as plt\n",
    "\n",
    "cm = confusion_matrix(y_test, y_pred)\n",
    "\n",
    "disp = ConfusionMatrixDisplay(confusion_matrix=cm, display_labels=dt_model.classes_)\n",
    "disp.plot(cmap=plt.cm.Blues)\n",
    "plt.title(\"Confusion Matrix\")\n",
    "plt.show()\n"
   ]
  }
 ],
 "metadata": {
  "kernelspec": {
   "display_name": "Python 3",
   "language": "python",
   "name": "python3"
  },
  "language_info": {
   "codemirror_mode": {
    "name": "ipython",
    "version": 3
   },
   "file_extension": ".py",
   "mimetype": "text/x-python",
   "name": "python",
   "nbconvert_exporter": "python",
   "pygments_lexer": "ipython3",
   "version": "3.13.3"
  }
 },
 "nbformat": 4,
 "nbformat_minor": 5
}
